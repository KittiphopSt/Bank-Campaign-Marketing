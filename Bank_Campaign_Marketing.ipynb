{
 "cells": [
  {
   "cell_type": "markdown",
   "id": "7694f455",
   "metadata": {},
   "source": [
    "# Introduction\n",
    "Problem:\n",
    "You must identify client that have a chance to subcribe to term of deposit in the future.\n",
    "predict if the client will purchase a term deposit."
   ]
  },
  {
   "cell_type": "markdown",
   "id": "78a386e1",
   "metadata": {},
   "source": [
    "# About Project\n",
    "In this project, I will analysis,visualization and predictive modeling. "
   ]
  },
  {
   "cell_type": "markdown",
   "id": "a5100472",
   "metadata": {},
   "source": [
    "# Import Libraries\n",
    "Let's import all necessary libraries for the analysis and along with it let's bring down our dataset"
   ]
  },
  {
   "cell_type": "code",
   "execution_count": 2302,
   "id": "1f98627b",
   "metadata": {},
   "outputs": [],
   "source": [
    "import pandas as pd\n",
    "import matplotlib.pyplot as plt\n",
    "from matplotlib.pyplot import figure\n",
    "import numpy as np\n",
    "import seaborn as sns\n",
    "%matplotlib inline\n",
    "from sklearn.preprocessing import StandardScaler\n",
    "from sklearn.ensemble import ExtraTreesClassifier\n",
    "from sklearn.linear_model import LogisticRegression\n",
    "from sklearn.model_selection import GridSearchCV\n",
    "from sklearn.metrics import confusion_matrix\n",
    "from sklearn.metrics import classification_report\n",
    "from sklearn.model_selection import train_test_split\n",
    "import warnings\n",
    "warnings.filterwarnings('ignore')\n",
    "from sklearn.metrics import roc_curve\n",
    "from sklearn.metrics import roc_auc_score"
   ]
  },
  {
   "cell_type": "markdown",
   "id": "ebc6160b",
   "metadata": {},
   "source": [
    "## Import data into python"
   ]
  },
  {
   "cell_type": "code",
   "execution_count": 2303,
   "id": "bac6b47f",
   "metadata": {},
   "outputs": [
    {
     "name": "stdout",
     "output_type": "stream",
     "text": [
      "       age           job   marital  education default  balance housing loan  \\\n",
      "0       58    management   married   tertiary      no     2143     yes   no   \n",
      "1       44    technician    single  secondary      no       29     yes   no   \n",
      "2       33  entrepreneur   married  secondary      no        2     yes  yes   \n",
      "3       47   blue-collar   married    unknown      no     1506     yes   no   \n",
      "4       33       unknown    single    unknown      no        1      no   no   \n",
      "...    ...           ...       ...        ...     ...      ...     ...  ...   \n",
      "45206   51    technician   married   tertiary      no      825      no   no   \n",
      "45207   71       retired  divorced    primary      no     1729      no   no   \n",
      "45208   72       retired   married  secondary      no     5715      no   no   \n",
      "45209   57   blue-collar   married  secondary      no      668      no   no   \n",
      "45210   37  entrepreneur   married  secondary      no     2971      no   no   \n",
      "\n",
      "         contact  day month  duration  campaign  pdays  previous poutcome    y  \n",
      "0        unknown    5   may       261         1     -1         0  unknown   no  \n",
      "1        unknown    5   may       151         1     -1         0  unknown   no  \n",
      "2        unknown    5   may        76         1     -1         0  unknown   no  \n",
      "3        unknown    5   may        92         1     -1         0  unknown   no  \n",
      "4        unknown    5   may       198         1     -1         0  unknown   no  \n",
      "...          ...  ...   ...       ...       ...    ...       ...      ...  ...  \n",
      "45206   cellular   17   nov       977         3     -1         0  unknown  yes  \n",
      "45207   cellular   17   nov       456         2     -1         0  unknown  yes  \n",
      "45208   cellular   17   nov      1127         5    184         3  success  yes  \n",
      "45209  telephone   17   nov       508         4     -1         0  unknown   no  \n",
      "45210   cellular   17   nov       361         2    188        11    other   no  \n",
      "\n",
      "[45211 rows x 17 columns]\n"
     ]
    }
   ],
   "source": [
    "df = pd.read_csv(r'C:\\Users\\Admin\\Desktop\\ttb\\datascience-full.csv')\n",
    "print(df)"
   ]
  },
  {
   "cell_type": "code",
   "execution_count": 2304,
   "id": "d3a22626",
   "metadata": {},
   "outputs": [],
   "source": [
    "df = pd.DataFrame(df)"
   ]
  },
  {
   "cell_type": "markdown",
   "id": "d60d00fb",
   "metadata": {},
   "source": [
    "# Checking for missing values"
   ]
  },
  {
   "cell_type": "code",
   "execution_count": 2305,
   "id": "2f41d541",
   "metadata": {
    "scrolled": true
   },
   "outputs": [
    {
     "name": "stdout",
     "output_type": "stream",
     "text": [
      "(45211, 17)\n",
      "age          0\n",
      "job          0\n",
      "marital      0\n",
      "education    0\n",
      "default      0\n",
      "balance      0\n",
      "housing      0\n",
      "loan         0\n",
      "contact      0\n",
      "day          0\n",
      "month        0\n",
      "duration     0\n",
      "campaign     0\n",
      "pdays        0\n",
      "previous     0\n",
      "poutcome     0\n",
      "y            0\n",
      "dtype: int64\n"
     ]
    }
   ],
   "source": [
    "print(df.shape)\n",
    "print(df.isnull().sum())"
   ]
  },
  {
   "cell_type": "markdown",
   "id": "57153a8e",
   "metadata": {},
   "source": [
    "# Data set\n",
    "It has 37150 instances and 22 features. It doesn't has null value anyway we must check it and manipulate them.\n",
    "\n",
    "Attributes: Bank client data:\n",
    "\n",
    "Age : Age of the lead (numeric)\n",
    "\n",
    "Job : type of job (Categorical)\n",
    "\n",
    "Marital : Marital status (Categorical)\n",
    "\n",
    "Education : Educational Qualification of the lead (Categorical)\n",
    "\n",
    "Default: Does the lead has any default(unpaid)credit (Categorical)\n",
    "\n",
    "Housing: Does the lead has any housing loan? (Categorical)\n",
    "\n",
    "loan: Does the lead has any personal loan? (Categorical)\n",
    "\n",
    "Related with the last contact of the current campaign:\n",
    "\n",
    "Contact: Contact communication type (Categorical)\n",
    "\n",
    "day: last contact day of the week (categorical)\n",
    "\n",
    "Month: last contact month of year (Categorical)\n",
    "\n",
    "duration: last contact duration, in seconds (numeric).\n",
    "\n",
    "campaign: number of contacts performed during this campaign and for this client (numeric, includes last contact)\n",
    "\n",
    "pdays: number of days that passed by after the client was last contacted from a previous campaign (numeric, -1 means client was not previously contacted)\n",
    "\n",
    "previous: number of contacts performed before this campaign and for this client (numeric)\n",
    "\n",
    "poutcome: outcome of the previous marketing campaign (categorical: \"unknown\",\"other\",\"failure\",\"success\")\n",
    "\n",
    "Output variable (desired target):\n",
    "\n",
    "y - has the client purchased a term deposit? (binary: \"yes\",\"no\")"
   ]
  },
  {
   "cell_type": "markdown",
   "id": "603a9a81",
   "metadata": {},
   "source": [
    "# Overview Data"
   ]
  },
  {
   "cell_type": "code",
   "execution_count": 2306,
   "id": "c87f7055",
   "metadata": {},
   "outputs": [
    {
     "data": {
      "text/html": [
       "<div>\n",
       "<style scoped>\n",
       "    .dataframe tbody tr th:only-of-type {\n",
       "        vertical-align: middle;\n",
       "    }\n",
       "\n",
       "    .dataframe tbody tr th {\n",
       "        vertical-align: top;\n",
       "    }\n",
       "\n",
       "    .dataframe thead th {\n",
       "        text-align: right;\n",
       "    }\n",
       "</style>\n",
       "<table border=\"1\" class=\"dataframe\">\n",
       "  <thead>\n",
       "    <tr style=\"text-align: right;\">\n",
       "      <th></th>\n",
       "      <th>age</th>\n",
       "      <th>job</th>\n",
       "      <th>marital</th>\n",
       "      <th>education</th>\n",
       "      <th>default</th>\n",
       "      <th>balance</th>\n",
       "      <th>housing</th>\n",
       "      <th>loan</th>\n",
       "      <th>contact</th>\n",
       "      <th>day</th>\n",
       "      <th>month</th>\n",
       "      <th>duration</th>\n",
       "      <th>campaign</th>\n",
       "      <th>pdays</th>\n",
       "      <th>previous</th>\n",
       "      <th>poutcome</th>\n",
       "      <th>y</th>\n",
       "    </tr>\n",
       "  </thead>\n",
       "  <tbody>\n",
       "    <tr>\n",
       "      <th>0</th>\n",
       "      <td>58</td>\n",
       "      <td>management</td>\n",
       "      <td>married</td>\n",
       "      <td>tertiary</td>\n",
       "      <td>no</td>\n",
       "      <td>2143</td>\n",
       "      <td>yes</td>\n",
       "      <td>no</td>\n",
       "      <td>unknown</td>\n",
       "      <td>5</td>\n",
       "      <td>may</td>\n",
       "      <td>261</td>\n",
       "      <td>1</td>\n",
       "      <td>-1</td>\n",
       "      <td>0</td>\n",
       "      <td>unknown</td>\n",
       "      <td>no</td>\n",
       "    </tr>\n",
       "    <tr>\n",
       "      <th>1</th>\n",
       "      <td>44</td>\n",
       "      <td>technician</td>\n",
       "      <td>single</td>\n",
       "      <td>secondary</td>\n",
       "      <td>no</td>\n",
       "      <td>29</td>\n",
       "      <td>yes</td>\n",
       "      <td>no</td>\n",
       "      <td>unknown</td>\n",
       "      <td>5</td>\n",
       "      <td>may</td>\n",
       "      <td>151</td>\n",
       "      <td>1</td>\n",
       "      <td>-1</td>\n",
       "      <td>0</td>\n",
       "      <td>unknown</td>\n",
       "      <td>no</td>\n",
       "    </tr>\n",
       "    <tr>\n",
       "      <th>2</th>\n",
       "      <td>33</td>\n",
       "      <td>entrepreneur</td>\n",
       "      <td>married</td>\n",
       "      <td>secondary</td>\n",
       "      <td>no</td>\n",
       "      <td>2</td>\n",
       "      <td>yes</td>\n",
       "      <td>yes</td>\n",
       "      <td>unknown</td>\n",
       "      <td>5</td>\n",
       "      <td>may</td>\n",
       "      <td>76</td>\n",
       "      <td>1</td>\n",
       "      <td>-1</td>\n",
       "      <td>0</td>\n",
       "      <td>unknown</td>\n",
       "      <td>no</td>\n",
       "    </tr>\n",
       "    <tr>\n",
       "      <th>3</th>\n",
       "      <td>47</td>\n",
       "      <td>blue-collar</td>\n",
       "      <td>married</td>\n",
       "      <td>unknown</td>\n",
       "      <td>no</td>\n",
       "      <td>1506</td>\n",
       "      <td>yes</td>\n",
       "      <td>no</td>\n",
       "      <td>unknown</td>\n",
       "      <td>5</td>\n",
       "      <td>may</td>\n",
       "      <td>92</td>\n",
       "      <td>1</td>\n",
       "      <td>-1</td>\n",
       "      <td>0</td>\n",
       "      <td>unknown</td>\n",
       "      <td>no</td>\n",
       "    </tr>\n",
       "    <tr>\n",
       "      <th>4</th>\n",
       "      <td>33</td>\n",
       "      <td>unknown</td>\n",
       "      <td>single</td>\n",
       "      <td>unknown</td>\n",
       "      <td>no</td>\n",
       "      <td>1</td>\n",
       "      <td>no</td>\n",
       "      <td>no</td>\n",
       "      <td>unknown</td>\n",
       "      <td>5</td>\n",
       "      <td>may</td>\n",
       "      <td>198</td>\n",
       "      <td>1</td>\n",
       "      <td>-1</td>\n",
       "      <td>0</td>\n",
       "      <td>unknown</td>\n",
       "      <td>no</td>\n",
       "    </tr>\n",
       "  </tbody>\n",
       "</table>\n",
       "</div>"
      ],
      "text/plain": [
       "   age           job  marital  education default  balance housing loan  \\\n",
       "0   58    management  married   tertiary      no     2143     yes   no   \n",
       "1   44    technician   single  secondary      no       29     yes   no   \n",
       "2   33  entrepreneur  married  secondary      no        2     yes  yes   \n",
       "3   47   blue-collar  married    unknown      no     1506     yes   no   \n",
       "4   33       unknown   single    unknown      no        1      no   no   \n",
       "\n",
       "   contact  day month  duration  campaign  pdays  previous poutcome   y  \n",
       "0  unknown    5   may       261         1     -1         0  unknown  no  \n",
       "1  unknown    5   may       151         1     -1         0  unknown  no  \n",
       "2  unknown    5   may        76         1     -1         0  unknown  no  \n",
       "3  unknown    5   may        92         1     -1         0  unknown  no  \n",
       "4  unknown    5   may       198         1     -1         0  unknown  no  "
      ]
     },
     "execution_count": 2306,
     "metadata": {},
     "output_type": "execute_result"
    }
   ],
   "source": [
    "df.head()"
   ]
  },
  {
   "cell_type": "code",
   "execution_count": 2307,
   "id": "11df0524",
   "metadata": {},
   "outputs": [
    {
     "name": "stdout",
     "output_type": "stream",
     "text": [
      "<class 'pandas.core.frame.DataFrame'>\n",
      "RangeIndex: 45211 entries, 0 to 45210\n",
      "Data columns (total 17 columns):\n",
      " #   Column     Non-Null Count  Dtype \n",
      "---  ------     --------------  ----- \n",
      " 0   age        45211 non-null  int64 \n",
      " 1   job        45211 non-null  object\n",
      " 2   marital    45211 non-null  object\n",
      " 3   education  45211 non-null  object\n",
      " 4   default    45211 non-null  object\n",
      " 5   balance    45211 non-null  int64 \n",
      " 6   housing    45211 non-null  object\n",
      " 7   loan       45211 non-null  object\n",
      " 8   contact    45211 non-null  object\n",
      " 9   day        45211 non-null  int64 \n",
      " 10  month      45211 non-null  object\n",
      " 11  duration   45211 non-null  int64 \n",
      " 12  campaign   45211 non-null  int64 \n",
      " 13  pdays      45211 non-null  int64 \n",
      " 14  previous   45211 non-null  int64 \n",
      " 15  poutcome   45211 non-null  object\n",
      " 16  y          45211 non-null  object\n",
      "dtypes: int64(7), object(10)\n",
      "memory usage: 5.9+ MB\n"
     ]
    }
   ],
   "source": [
    "df.info()"
   ]
  },
  {
   "cell_type": "code",
   "execution_count": 2308,
   "id": "1df98e5c",
   "metadata": {},
   "outputs": [
    {
     "data": {
      "text/html": [
       "<div>\n",
       "<style scoped>\n",
       "    .dataframe tbody tr th:only-of-type {\n",
       "        vertical-align: middle;\n",
       "    }\n",
       "\n",
       "    .dataframe tbody tr th {\n",
       "        vertical-align: top;\n",
       "    }\n",
       "\n",
       "    .dataframe thead th {\n",
       "        text-align: right;\n",
       "    }\n",
       "</style>\n",
       "<table border=\"1\" class=\"dataframe\">\n",
       "  <thead>\n",
       "    <tr style=\"text-align: right;\">\n",
       "      <th></th>\n",
       "      <th>age</th>\n",
       "      <th>balance</th>\n",
       "      <th>day</th>\n",
       "      <th>duration</th>\n",
       "      <th>campaign</th>\n",
       "      <th>pdays</th>\n",
       "      <th>previous</th>\n",
       "    </tr>\n",
       "  </thead>\n",
       "  <tbody>\n",
       "    <tr>\n",
       "      <th>count</th>\n",
       "      <td>45211.000000</td>\n",
       "      <td>45211.000000</td>\n",
       "      <td>45211.000000</td>\n",
       "      <td>45211.000000</td>\n",
       "      <td>45211.000000</td>\n",
       "      <td>45211.000000</td>\n",
       "      <td>45211.000000</td>\n",
       "    </tr>\n",
       "    <tr>\n",
       "      <th>mean</th>\n",
       "      <td>40.936210</td>\n",
       "      <td>1362.272058</td>\n",
       "      <td>15.806419</td>\n",
       "      <td>258.163080</td>\n",
       "      <td>2.763841</td>\n",
       "      <td>40.197828</td>\n",
       "      <td>0.580323</td>\n",
       "    </tr>\n",
       "    <tr>\n",
       "      <th>std</th>\n",
       "      <td>10.618762</td>\n",
       "      <td>3044.765829</td>\n",
       "      <td>8.322476</td>\n",
       "      <td>257.527812</td>\n",
       "      <td>3.098021</td>\n",
       "      <td>100.128746</td>\n",
       "      <td>2.303441</td>\n",
       "    </tr>\n",
       "    <tr>\n",
       "      <th>min</th>\n",
       "      <td>18.000000</td>\n",
       "      <td>-8019.000000</td>\n",
       "      <td>1.000000</td>\n",
       "      <td>0.000000</td>\n",
       "      <td>1.000000</td>\n",
       "      <td>-1.000000</td>\n",
       "      <td>0.000000</td>\n",
       "    </tr>\n",
       "    <tr>\n",
       "      <th>25%</th>\n",
       "      <td>33.000000</td>\n",
       "      <td>72.000000</td>\n",
       "      <td>8.000000</td>\n",
       "      <td>103.000000</td>\n",
       "      <td>1.000000</td>\n",
       "      <td>-1.000000</td>\n",
       "      <td>0.000000</td>\n",
       "    </tr>\n",
       "    <tr>\n",
       "      <th>50%</th>\n",
       "      <td>39.000000</td>\n",
       "      <td>448.000000</td>\n",
       "      <td>16.000000</td>\n",
       "      <td>180.000000</td>\n",
       "      <td>2.000000</td>\n",
       "      <td>-1.000000</td>\n",
       "      <td>0.000000</td>\n",
       "    </tr>\n",
       "    <tr>\n",
       "      <th>75%</th>\n",
       "      <td>48.000000</td>\n",
       "      <td>1428.000000</td>\n",
       "      <td>21.000000</td>\n",
       "      <td>319.000000</td>\n",
       "      <td>3.000000</td>\n",
       "      <td>-1.000000</td>\n",
       "      <td>0.000000</td>\n",
       "    </tr>\n",
       "    <tr>\n",
       "      <th>max</th>\n",
       "      <td>95.000000</td>\n",
       "      <td>102127.000000</td>\n",
       "      <td>31.000000</td>\n",
       "      <td>4918.000000</td>\n",
       "      <td>63.000000</td>\n",
       "      <td>871.000000</td>\n",
       "      <td>275.000000</td>\n",
       "    </tr>\n",
       "  </tbody>\n",
       "</table>\n",
       "</div>"
      ],
      "text/plain": [
       "                age        balance           day      duration      campaign  \\\n",
       "count  45211.000000   45211.000000  45211.000000  45211.000000  45211.000000   \n",
       "mean      40.936210    1362.272058     15.806419    258.163080      2.763841   \n",
       "std       10.618762    3044.765829      8.322476    257.527812      3.098021   \n",
       "min       18.000000   -8019.000000      1.000000      0.000000      1.000000   \n",
       "25%       33.000000      72.000000      8.000000    103.000000      1.000000   \n",
       "50%       39.000000     448.000000     16.000000    180.000000      2.000000   \n",
       "75%       48.000000    1428.000000     21.000000    319.000000      3.000000   \n",
       "max       95.000000  102127.000000     31.000000   4918.000000     63.000000   \n",
       "\n",
       "              pdays      previous  \n",
       "count  45211.000000  45211.000000  \n",
       "mean      40.197828      0.580323  \n",
       "std      100.128746      2.303441  \n",
       "min       -1.000000      0.000000  \n",
       "25%       -1.000000      0.000000  \n",
       "50%       -1.000000      0.000000  \n",
       "75%       -1.000000      0.000000  \n",
       "max      871.000000    275.000000  "
      ]
     },
     "execution_count": 2308,
     "metadata": {},
     "output_type": "execute_result"
    }
   ],
   "source": [
    "#Checking data with statistical parameter\n",
    "df.describe()"
   ]
  },
  {
   "cell_type": "code",
   "execution_count": 2309,
   "id": "635d9102",
   "metadata": {},
   "outputs": [
    {
     "name": "stdout",
     "output_type": "stream",
     "text": [
      "job:\n",
      "blue-collar      9732\n",
      "management       9458\n",
      "technician       7597\n",
      "admin.           5171\n",
      "services         4154\n",
      "retired          2264\n",
      "self-employed    1579\n",
      "entrepreneur     1487\n",
      "unemployed       1303\n",
      "housemaid        1240\n",
      "student           938\n",
      "unknown           288\n",
      "Name: job, dtype: int64\n",
      "----------------------------------------\n",
      "marital:\n",
      "married     27214\n",
      "single      12790\n",
      "divorced     5207\n",
      "Name: marital, dtype: int64\n",
      "----------------------------------------\n",
      "education:\n",
      "secondary    23202\n",
      "tertiary     13301\n",
      "primary       6851\n",
      "unknown       1857\n",
      "Name: education, dtype: int64\n",
      "----------------------------------------\n",
      "default:\n",
      "no     44396\n",
      "yes      815\n",
      "Name: default, dtype: int64\n",
      "----------------------------------------\n",
      "balance:\n",
      " 0        3514\n",
      " 1         195\n",
      " 2         156\n",
      " 4         139\n",
      " 3         134\n",
      "          ... \n",
      "-381         1\n",
      " 4617        1\n",
      " 20584       1\n",
      " 4358        1\n",
      " 16353       1\n",
      "Name: balance, Length: 7168, dtype: int64\n",
      "----------------------------------------\n",
      "housing:\n",
      "yes    25130\n",
      "no     20081\n",
      "Name: housing, dtype: int64\n",
      "----------------------------------------\n",
      "loan:\n",
      "no     37967\n",
      "yes     7244\n",
      "Name: loan, dtype: int64\n",
      "----------------------------------------\n",
      "contact:\n",
      "cellular     29285\n",
      "unknown      13020\n",
      "telephone     2906\n",
      "Name: contact, dtype: int64\n",
      "----------------------------------------\n",
      "day:\n",
      "20    2752\n",
      "18    2308\n",
      "21    2026\n",
      "17    1939\n",
      "6     1932\n",
      "5     1910\n",
      "14    1848\n",
      "8     1842\n",
      "28    1830\n",
      "7     1817\n",
      "19    1757\n",
      "29    1745\n",
      "15    1703\n",
      "12    1603\n",
      "13    1585\n",
      "30    1566\n",
      "9     1561\n",
      "11    1479\n",
      "4     1445\n",
      "16    1415\n",
      "2     1293\n",
      "27    1121\n",
      "3     1079\n",
      "26    1035\n",
      "23     939\n",
      "22     905\n",
      "25     840\n",
      "31     643\n",
      "10     524\n",
      "24     447\n",
      "1      322\n",
      "Name: day, dtype: int64\n",
      "----------------------------------------\n",
      "month:\n",
      "may    13766\n",
      "jul     6895\n",
      "aug     6247\n",
      "jun     5341\n",
      "nov     3970\n",
      "apr     2932\n",
      "feb     2649\n",
      "jan     1403\n",
      "oct      738\n",
      "sep      579\n",
      "mar      477\n",
      "dec      214\n",
      "Name: month, dtype: int64\n",
      "----------------------------------------\n",
      "duration:\n",
      "124     188\n",
      "90      184\n",
      "89      177\n",
      "104     175\n",
      "122     175\n",
      "       ... \n",
      "1833      1\n",
      "1545      1\n",
      "1352      1\n",
      "1342      1\n",
      "1556      1\n",
      "Name: duration, Length: 1573, dtype: int64\n",
      "----------------------------------------\n",
      "campaign:\n",
      "1     17544\n",
      "2     12505\n",
      "3      5521\n",
      "4      3522\n",
      "5      1764\n",
      "6      1291\n",
      "7       735\n",
      "8       540\n",
      "9       327\n",
      "10      266\n",
      "11      201\n",
      "12      155\n",
      "13      133\n",
      "14       93\n",
      "15       84\n",
      "16       79\n",
      "17       69\n",
      "18       51\n",
      "19       44\n",
      "20       43\n",
      "21       35\n",
      "22       23\n",
      "25       22\n",
      "23       22\n",
      "24       20\n",
      "29       16\n",
      "28       16\n",
      "26       13\n",
      "31       12\n",
      "27       10\n",
      "32        9\n",
      "30        8\n",
      "33        6\n",
      "34        5\n",
      "36        4\n",
      "35        4\n",
      "43        3\n",
      "38        3\n",
      "37        2\n",
      "50        2\n",
      "41        2\n",
      "46        1\n",
      "58        1\n",
      "55        1\n",
      "63        1\n",
      "51        1\n",
      "39        1\n",
      "44        1\n",
      "Name: campaign, dtype: int64\n",
      "----------------------------------------\n",
      "duration:\n",
      "124     188\n",
      "90      184\n",
      "89      177\n",
      "104     175\n",
      "122     175\n",
      "       ... \n",
      "1833      1\n",
      "1545      1\n",
      "1352      1\n",
      "1342      1\n",
      "1556      1\n",
      "Name: duration, Length: 1573, dtype: int64\n",
      "----------------------------------------\n",
      "pdays:\n",
      "-1      36954\n",
      " 182      167\n",
      " 92       147\n",
      " 91       126\n",
      " 183      126\n",
      "        ...  \n",
      " 449        1\n",
      " 452        1\n",
      " 648        1\n",
      " 595        1\n",
      " 530        1\n",
      "Name: pdays, Length: 559, dtype: int64\n",
      "----------------------------------------\n",
      "previous:\n",
      "0      36954\n",
      "1       2772\n",
      "2       2106\n",
      "3       1142\n",
      "4        714\n",
      "5        459\n",
      "6        277\n",
      "7        205\n",
      "8        129\n",
      "9         92\n",
      "10        67\n",
      "11        65\n",
      "12        44\n",
      "13        38\n",
      "15        20\n",
      "14        19\n",
      "17        15\n",
      "16        13\n",
      "19        11\n",
      "20         8\n",
      "23         8\n",
      "18         6\n",
      "22         6\n",
      "24         5\n",
      "27         5\n",
      "21         4\n",
      "29         4\n",
      "25         4\n",
      "30         3\n",
      "38         2\n",
      "37         2\n",
      "26         2\n",
      "28         2\n",
      "51         1\n",
      "275        1\n",
      "58         1\n",
      "32         1\n",
      "40         1\n",
      "55         1\n",
      "35         1\n",
      "41         1\n",
      "Name: previous, dtype: int64\n",
      "----------------------------------------\n",
      "poutcome:\n",
      "unknown    36959\n",
      "failure     4901\n",
      "other       1840\n",
      "success     1511\n",
      "Name: poutcome, dtype: int64\n",
      "----------------------------------------\n"
     ]
    }
   ],
   "source": [
    "#Checking data the categories\n",
    "print(\"job:\",df.job.value_counts(),sep = '\\n')\n",
    "print(\"-\"*40)\n",
    "print(\"marital:\",df.marital.value_counts(),sep = '\\n')\n",
    "print(\"-\"*40)\n",
    "print(\"education:\",df.education.value_counts(),sep = '\\n')\n",
    "print(\"-\"*40)\n",
    "print(\"default:\",df.default.value_counts(),sep = '\\n')\n",
    "print(\"-\"*40)\n",
    "print(\"balance:\",df.balance.value_counts(),sep = '\\n')\n",
    "print(\"-\"*40)\n",
    "print(\"housing:\",df.housing.value_counts(),sep = '\\n')\n",
    "print(\"-\"*40)\n",
    "print(\"loan:\",df.loan.value_counts(),sep = '\\n')\n",
    "print(\"-\"*40)\n",
    "print(\"contact:\",df.contact.value_counts(),sep = '\\n')\n",
    "print(\"-\"*40)\n",
    "print(\"day:\",df.day.value_counts(),sep = '\\n')\n",
    "print(\"-\"*40)\n",
    "print(\"month:\",df.month.value_counts(),sep = '\\n')\n",
    "print(\"-\"*40)\n",
    "print(\"duration:\",df.duration.value_counts(),sep = '\\n')\n",
    "print(\"-\"*40)\n",
    "print(\"campaign:\",df.campaign.value_counts(),sep = '\\n')\n",
    "print(\"-\"*40)\n",
    "print(\"duration:\",df.duration.value_counts(),sep = '\\n')\n",
    "print(\"-\"*40)\n",
    "print(\"pdays:\",df.pdays.value_counts(),sep = '\\n')\n",
    "print(\"-\"*40)\n",
    "print(\"previous:\",df.previous.value_counts(),sep = '\\n')\n",
    "print(\"-\"*40)\n",
    "print(\"poutcome:\",df.poutcome.value_counts(),sep = '\\n')\n",
    "print(\"-\"*40)\n"
   ]
  },
  {
   "cell_type": "markdown",
   "id": "c3c5765f",
   "metadata": {},
   "source": [
    "# Insights\n",
    "1. In poutcome has a unknown category,I will find figure out to deal with it.\n",
    "2. In contact has a unknown category,I will find figure out to deal with it.\n",
    "3. In balance has some value below than 1 so it doesn't good signal for them.\n",
    "4. In education has a unknown category,I will find figure out to deal with it.\n",
    "5. In job has a unknown category,I will find figure out to deal with it."
   ]
  },
  {
   "cell_type": "markdown",
   "id": "c312932b",
   "metadata": {},
   "source": [
    "# Exploratory Data Analysis"
   ]
  },
  {
   "cell_type": "code",
   "execution_count": 2310,
   "id": "caa0f037",
   "metadata": {},
   "outputs": [
    {
     "data": {
      "text/plain": [
       "Text(0.5, 1.0, 'job vs deposit')"
      ]
     },
     "execution_count": 2310,
     "metadata": {},
     "output_type": "execute_result"
    },
    {
     "data": {
      "image/png": "[encoded data removed]",
      "text/plain": [
       "<Figure size 1500x700 with 1 Axes>"
      ]
     },
     "metadata": {},
     "output_type": "display_data"
    }
   ],
   "source": [
    "fig = plt.figure(figsize=(15,7))\n",
    "sns.countplot(data=df,x='job',hue='y',order=df['job'].value_counts(ascending=False).index)\n",
    "plt.title('job vs deposit')"
   ]
  },
  {
   "cell_type": "markdown",
   "id": "e96f9be1",
   "metadata": {},
   "source": [
    "# Insights\n",
    "1. Management is the best clients purchase deposit. This campaign is appropriate with management job type.\n",
    "2. Blue-collar has the largest number of clients. If you change marketing strategy straight to blue-collar, it prably increase term of deposit.\n",
    "3. Retired and Student are good to collect more data because distance between yes and no isn't too much."
   ]
  },
  {
   "cell_type": "code",
   "execution_count": 2311,
   "id": "f75b940f",
   "metadata": {},
   "outputs": [
    {
     "data": {
      "text/plain": [
       "<AxesSubplot:xlabel='campaign', ylabel='duration'>"
      ]
     },
     "execution_count": 2311,
     "metadata": {},
     "output_type": "execute_result"
    },
    {
     "data": {
      "image/png": "[encoded data removed]",
      "text/plain": [
       "<Figure size 640x480 with 1 Axes>"
      ]
     },
     "metadata": {},
     "output_type": "display_data"
    }
   ],
   "source": [
    "sns.scatterplot(data=df,x='campaign',y='duration',hue='y')"
   ]
  },
  {
   "cell_type": "markdown",
   "id": "b52d2280",
   "metadata": {},
   "source": [
    "# Insights\n",
    "1. It's a good chance to organize campaign in range 0-10 because many client who will back to deposit more is in this period.\n",
    "2. More than 20 campaign isn't appropriate because it's less client. It will be expesive cost when client is'nt increase.\n",
    "3. The most client who will deposit more don't like many duration call. You must prepare to call not more than 4000 second in range 0-5 campaign. "
   ]
  },
  {
   "cell_type": "code",
   "execution_count": 2312,
   "id": "aa30bddc",
   "metadata": {},
   "outputs": [
    {
     "data": {
      "text/plain": [
       "<AxesSubplot:xlabel='age', ylabel='Frequency'>"
      ]
     },
     "execution_count": 2312,
     "metadata": {},
     "output_type": "execute_result"
    },
    {
     "data": {
      "image/png": "[encoded data removed]",
      "text/plain": [
       "<Figure size 640x480 with 1 Axes>"
      ]
     },
     "metadata": {},
     "output_type": "display_data"
    }
   ],
   "source": [
    "sns.histplot(data=df,x=\"age\", hue=\"y\",multiple=\"fill\",palette='coolwarm',linewidth=.5,stat='frequency',binwidth=5)"
   ]
  },
  {
   "cell_type": "markdown",
   "id": "b6c7caa2",
   "metadata": {},
   "source": [
    "# Insights\n",
    "1. This campaign is appropriate for client who aged more than 60 years old.\n",
    "2. This campaign isn't interesting for client who aged between 20-60 years old."
   ]
  },
  {
   "cell_type": "code",
   "execution_count": 2313,
   "id": "f02e01ab",
   "metadata": {},
   "outputs": [
    {
     "data": {
      "text/plain": [
       "<AxesSubplot:xlabel='education', ylabel='count'>"
      ]
     },
     "execution_count": 2313,
     "metadata": {},
     "output_type": "execute_result"
    },
    {
     "data": {
      "image/png": "[encoded data removed]",
      "text/plain": [
       "<Figure size 640x480 with 1 Axes>"
      ]
     },
     "metadata": {},
     "output_type": "display_data"
    }
   ],
   "source": [
    "sns.countplot(x='education',hue='y',data=df)"
   ]
  },
  {
   "cell_type": "markdown",
   "id": "17d17bf6",
   "metadata": {},
   "source": [
    "# Insights\n",
    "1. Client who graduated secondary or higher than probably your client.\n",
    "2. It can be assume that unknown and primary doesn't like this campaign."
   ]
  },
  {
   "cell_type": "code",
   "execution_count": 2314,
   "id": "32e0ed1c",
   "metadata": {},
   "outputs": [
    {
     "data": {
      "text/plain": [
       "<AxesSubplot:xlabel='month', ylabel='count'>"
      ]
     },
     "execution_count": 2314,
     "metadata": {},
     "output_type": "execute_result"
    },
    {
     "data": {
      "image/png": "[encoded data removed]",
      "text/plain": [
       "<Figure size 640x480 with 1 Axes>"
      ]
     },
     "metadata": {},
     "output_type": "display_data"
    }
   ],
   "source": [
    "sns.countplot(x='month',data=df,order=df['month'].value_counts().index,hue='y')"
   ]
  },
  {
   "cell_type": "markdown",
   "id": "dde82b33",
   "metadata": {},
   "source": [
    "# Insights\n",
    "1. May is best time to marketing campaign and lot of clients.\n",
    "2. During the 5th month to the 9th month was a time when there were a lot of client. If we improve strategy and collect more date the campaign during this time and put it in full force, it might be a good time to increase term of deposit.\n",
    "3. During the 10th month to 12th month it isn't important to make big campaign because client not too much. It' time to make small campaign for save cost."
   ]
  },
  {
   "cell_type": "markdown",
   "id": "74796654",
   "metadata": {},
   "source": [
    "# Correlation plot of attributes"
   ]
  },
  {
   "cell_type": "code",
   "execution_count": 2315,
   "id": "83c5c349",
   "metadata": {},
   "outputs": [
    {
     "data": {
      "image/png": "[encoded data removed]",
      "text/plain": [
       "<Figure size 900x900 with 2 Axes>"
      ]
     },
     "metadata": {},
     "output_type": "display_data"
    }
   ],
   "source": [
    "fig,ax=plt.subplots(figsize=(9,9))\n",
    "sns.heatmap(df.corr(),annot=True,linewidths=0.5,linecolor=\"black\")\n",
    "plt.show()"
   ]
  },
  {
   "cell_type": "markdown",
   "id": "8b93b884",
   "metadata": {},
   "source": [
    "# Insights\n",
    "1. Previous is collerated with pdays.\n",
    "2. The indicators have correlation among themselves.\n",
    "3. Campaign also correlates with day."
   ]
  },
  {
   "cell_type": "markdown",
   "id": "7593e2be",
   "metadata": {},
   "source": [
    "# Feature Engineering"
   ]
  },
  {
   "cell_type": "markdown",
   "id": "6988cc27",
   "metadata": {},
   "source": [
    "# Handling outliers"
   ]
  },
  {
   "cell_type": "markdown",
   "id": "3f598a51",
   "metadata": {},
   "source": [
    "Let's check numerical feature find outlier remove it using boxplot."
   ]
  },
  {
   "cell_type": "code",
   "execution_count": 2316,
   "id": "8ece865e",
   "metadata": {},
   "outputs": [
    {
     "data": {
      "text/plain": [
       "Text(0.5, 1.0, 'previous')"
      ]
     },
     "execution_count": 2316,
     "metadata": {},
     "output_type": "execute_result"
    },
    {
     "data": {
      "image/png": "[encoded data removed]",
      "text/plain": [
       "<Figure size 1500x3000 with 7 Axes>"
      ]
     },
     "metadata": {},
     "output_type": "display_data"
    }
   ],
   "source": [
    "plt.figure(figsize = (15, 30))\n",
    "plt.style.use('seaborn-white')\n",
    "ax=plt.subplot(521)\n",
    "plt.boxplot(df['age'])\n",
    "ax.set_title('age')\n",
    "ax=plt.subplot(522)\n",
    "plt.boxplot(df['balance'])\n",
    "ax.set_title('balance')\n",
    "ax=plt.subplot(523)\n",
    "plt.boxplot(df['duration'])\n",
    "ax.set_title('duration')\n",
    "ax=plt.subplot(524)\n",
    "plt.boxplot(df['day'])\n",
    "ax.set_title('day')\n",
    "ax=plt.subplot(525)\n",
    "plt.boxplot(df['campaign'])\n",
    "ax.set_title('campaign')\n",
    "ax=plt.subplot(526)\n",
    "plt.boxplot(df['pdays'])\n",
    "ax.set_title('pdays')\n",
    "ax=plt.subplot(527)\n",
    "plt.boxplot(df['previous'])\n",
    "ax.set_title('previous')"
   ]
  },
  {
   "cell_type": "markdown",
   "id": "1f6247b1",
   "metadata": {},
   "source": [
    "For age,duration,balance,previous and campaign are outliers. So, let's fix these features using IQR method."
   ]
  },
  {
   "cell_type": "code",
   "execution_count": 2317,
   "id": "4878f93b",
   "metadata": {},
   "outputs": [],
   "source": [
    "df.drop(df[df['previous'] == 275].index, inplace = True)"
   ]
  },
  {
   "cell_type": "code",
   "execution_count": 2318,
   "id": "53f7122f",
   "metadata": {},
   "outputs": [],
   "source": [
    "a=['age','duration','balance','campaign']\n",
    "for cols in a:\n",
    "    Q1 = df[cols].quantile(0.25)\n",
    "    Q3 = df[cols].quantile(0.75)\n",
    "    IQR = Q3 - Q1     \n",
    "\n",
    "    filter = (df[cols] >= Q1 - 1.5 * IQR) & (df[cols] <= Q3 + 1.5 *IQR)\n",
    "    df=df.loc[filter]"
   ]
  },
  {
   "cell_type": "code",
   "execution_count": 2319,
   "id": "54b9c231",
   "metadata": {},
   "outputs": [
    {
     "data": {
      "text/plain": [
       "Text(0.5, 1.0, 'campaign')"
      ]
     },
     "execution_count": 2319,
     "metadata": {},
     "output_type": "execute_result"
    },
    {
     "data": {
      "image/png": "[encoded data removed]",
      "text/plain": [
       "<Figure size 1500x3000 with 4 Axes>"
      ]
     },
     "metadata": {},
     "output_type": "display_data"
    }
   ],
   "source": [
    "plt.figure(figsize = (15, 30))\n",
    "plt.style.use('seaborn-white')\n",
    "ax=plt.subplot(521)\n",
    "plt.boxplot(df['age'])\n",
    "ax.set_title('age')\n",
    "ax=plt.subplot(522)\n",
    "plt.boxplot(df['balance'])\n",
    "ax.set_title('balance')\n",
    "ax=plt.subplot(523)\n",
    "plt.boxplot(df['duration'])\n",
    "ax.set_title('duration')\n",
    "ax=plt.subplot(524)\n",
    "plt.boxplot(df['campaign'])\n",
    "ax.set_title('campaign')"
   ]
  },
  {
   "cell_type": "markdown",
   "id": "39b46dc8",
   "metadata": {},
   "source": [
    "# Encoding Month"
   ]
  },
  {
   "cell_type": "markdown",
   "id": "844cb5d8",
   "metadata": {},
   "source": [
    "Change categorical month to numeric month ex. jan=1,feb=2.....dec=12."
   ]
  },
  {
   "cell_type": "code",
   "execution_count": 2320,
   "id": "58d7cebf",
   "metadata": {},
   "outputs": [
    {
     "data": {
      "text/html": [
       "<div>\n",
       "<style scoped>\n",
       "    .dataframe tbody tr th:only-of-type {\n",
       "        vertical-align: middle;\n",
       "    }\n",
       "\n",
       "    .dataframe tbody tr th {\n",
       "        vertical-align: top;\n",
       "    }\n",
       "\n",
       "    .dataframe thead th {\n",
       "        text-align: right;\n",
       "    }\n",
       "</style>\n",
       "<table border=\"1\" class=\"dataframe\">\n",
       "  <thead>\n",
       "    <tr style=\"text-align: right;\">\n",
       "      <th></th>\n",
       "      <th>month</th>\n",
       "    </tr>\n",
       "  </thead>\n",
       "  <tbody>\n",
       "    <tr>\n",
       "      <th>0</th>\n",
       "      <td>5</td>\n",
       "    </tr>\n",
       "    <tr>\n",
       "      <th>1</th>\n",
       "      <td>5</td>\n",
       "    </tr>\n",
       "    <tr>\n",
       "      <th>2</th>\n",
       "      <td>5</td>\n",
       "    </tr>\n",
       "    <tr>\n",
       "      <th>3</th>\n",
       "      <td>5</td>\n",
       "    </tr>\n",
       "    <tr>\n",
       "      <th>4</th>\n",
       "      <td>5</td>\n",
       "    </tr>\n",
       "  </tbody>\n",
       "</table>\n",
       "</div>"
      ],
      "text/plain": [
       "   month\n",
       "0      5\n",
       "1      5\n",
       "2      5\n",
       "3      5\n",
       "4      5"
      ]
     },
     "execution_count": 2320,
     "metadata": {},
     "output_type": "execute_result"
    }
   ],
   "source": [
    "month_dict={'jan':1,'feb':2,'mar':3,'apr':4,'may':5,'jun':6,'jul':7,'aug':8,'sep':9,'oct':10,'nov':11,'dec':12}\n",
    "df['month']= df['month'].map(month_dict)\n",
    "df.loc[:, ['month']].head()"
   ]
  },
  {
   "cell_type": "markdown",
   "id": "5e999fe7",
   "metadata": {},
   "source": [
    "# Ordinal Number Encoding"
   ]
  },
  {
   "cell_type": "markdown",
   "id": "fe08bde2",
   "metadata": {},
   "source": [
    "Change the features which has yes,no and unknown. Assign them to yes:1,no:0 and unknown:-1."
   ]
  },
  {
   "cell_type": "code",
   "execution_count": 2321,
   "id": "c90bcd7f",
   "metadata": {},
   "outputs": [],
   "source": [
    "dictionary={'yes':1,'no':0,'unknown':-1}\n",
    "df['housing']=df['housing'].map(dictionary)\n",
    "df['default']=df['default'].map(dictionary)\n",
    "df['loan']=df['loan'].map(dictionary)\n",
    "df['y']=df['y'].map(dictionary)"
   ]
  },
  {
   "cell_type": "code",
   "execution_count": 2322,
   "id": "76ab9cfd",
   "metadata": {},
   "outputs": [
    {
     "data": {
      "text/html": [
       "<div>\n",
       "<style scoped>\n",
       "    .dataframe tbody tr th:only-of-type {\n",
       "        vertical-align: middle;\n",
       "    }\n",
       "\n",
       "    .dataframe tbody tr th {\n",
       "        vertical-align: top;\n",
       "    }\n",
       "\n",
       "    .dataframe thead th {\n",
       "        text-align: right;\n",
       "    }\n",
       "</style>\n",
       "<table border=\"1\" class=\"dataframe\">\n",
       "  <thead>\n",
       "    <tr style=\"text-align: right;\">\n",
       "      <th></th>\n",
       "      <th>housing</th>\n",
       "      <th>default</th>\n",
       "      <th>loan</th>\n",
       "      <th>y</th>\n",
       "    </tr>\n",
       "  </thead>\n",
       "  <tbody>\n",
       "    <tr>\n",
       "      <th>0</th>\n",
       "      <td>1</td>\n",
       "      <td>0</td>\n",
       "      <td>0</td>\n",
       "      <td>0</td>\n",
       "    </tr>\n",
       "    <tr>\n",
       "      <th>1</th>\n",
       "      <td>1</td>\n",
       "      <td>0</td>\n",
       "      <td>0</td>\n",
       "      <td>0</td>\n",
       "    </tr>\n",
       "    <tr>\n",
       "      <th>2</th>\n",
       "      <td>1</td>\n",
       "      <td>0</td>\n",
       "      <td>1</td>\n",
       "      <td>0</td>\n",
       "    </tr>\n",
       "    <tr>\n",
       "      <th>3</th>\n",
       "      <td>1</td>\n",
       "      <td>0</td>\n",
       "      <td>0</td>\n",
       "      <td>0</td>\n",
       "    </tr>\n",
       "    <tr>\n",
       "      <th>4</th>\n",
       "      <td>0</td>\n",
       "      <td>0</td>\n",
       "      <td>0</td>\n",
       "      <td>0</td>\n",
       "    </tr>\n",
       "  </tbody>\n",
       "</table>\n",
       "</div>"
      ],
      "text/plain": [
       "   housing  default  loan  y\n",
       "0        1        0     0  0\n",
       "1        1        0     0  0\n",
       "2        1        0     1  0\n",
       "3        1        0     0  0\n",
       "4        0        0     0  0"
      ]
     },
     "execution_count": 2322,
     "metadata": {},
     "output_type": "execute_result"
    }
   ],
   "source": [
    "df.loc[:,['housing','default','loan','y']].head()"
   ]
  },
  {
   "cell_type": "code",
   "execution_count": 2323,
   "id": "4a6a107b",
   "metadata": {},
   "outputs": [
    {
     "data": {
      "text/html": [
       "<div>\n",
       "<style scoped>\n",
       "    .dataframe tbody tr th:only-of-type {\n",
       "        vertical-align: middle;\n",
       "    }\n",
       "\n",
       "    .dataframe tbody tr th {\n",
       "        vertical-align: top;\n",
       "    }\n",
       "\n",
       "    .dataframe thead th {\n",
       "        text-align: right;\n",
       "    }\n",
       "</style>\n",
       "<table border=\"1\" class=\"dataframe\">\n",
       "  <thead>\n",
       "    <tr style=\"text-align: right;\">\n",
       "      <th></th>\n",
       "      <th>age</th>\n",
       "      <th>job</th>\n",
       "      <th>marital</th>\n",
       "      <th>education</th>\n",
       "      <th>default</th>\n",
       "      <th>balance</th>\n",
       "      <th>housing</th>\n",
       "      <th>loan</th>\n",
       "      <th>contact</th>\n",
       "      <th>day</th>\n",
       "      <th>month</th>\n",
       "      <th>duration</th>\n",
       "      <th>campaign</th>\n",
       "      <th>pdays</th>\n",
       "      <th>previous</th>\n",
       "      <th>poutcome</th>\n",
       "      <th>y</th>\n",
       "    </tr>\n",
       "  </thead>\n",
       "  <tbody>\n",
       "    <tr>\n",
       "      <th>0</th>\n",
       "      <td>58</td>\n",
       "      <td>management</td>\n",
       "      <td>married</td>\n",
       "      <td>tertiary</td>\n",
       "      <td>0</td>\n",
       "      <td>2143</td>\n",
       "      <td>1</td>\n",
       "      <td>0</td>\n",
       "      <td>unknown</td>\n",
       "      <td>5</td>\n",
       "      <td>5</td>\n",
       "      <td>261</td>\n",
       "      <td>1</td>\n",
       "      <td>-1</td>\n",
       "      <td>0</td>\n",
       "      <td>unknown</td>\n",
       "      <td>0</td>\n",
       "    </tr>\n",
       "    <tr>\n",
       "      <th>1</th>\n",
       "      <td>44</td>\n",
       "      <td>technician</td>\n",
       "      <td>single</td>\n",
       "      <td>secondary</td>\n",
       "      <td>0</td>\n",
       "      <td>29</td>\n",
       "      <td>1</td>\n",
       "      <td>0</td>\n",
       "      <td>unknown</td>\n",
       "      <td>5</td>\n",
       "      <td>5</td>\n",
       "      <td>151</td>\n",
       "      <td>1</td>\n",
       "      <td>-1</td>\n",
       "      <td>0</td>\n",
       "      <td>unknown</td>\n",
       "      <td>0</td>\n",
       "    </tr>\n",
       "    <tr>\n",
       "      <th>2</th>\n",
       "      <td>33</td>\n",
       "      <td>entrepreneur</td>\n",
       "      <td>married</td>\n",
       "      <td>secondary</td>\n",
       "      <td>0</td>\n",
       "      <td>2</td>\n",
       "      <td>1</td>\n",
       "      <td>1</td>\n",
       "      <td>unknown</td>\n",
       "      <td>5</td>\n",
       "      <td>5</td>\n",
       "      <td>76</td>\n",
       "      <td>1</td>\n",
       "      <td>-1</td>\n",
       "      <td>0</td>\n",
       "      <td>unknown</td>\n",
       "      <td>0</td>\n",
       "    </tr>\n",
       "    <tr>\n",
       "      <th>3</th>\n",
       "      <td>47</td>\n",
       "      <td>blue-collar</td>\n",
       "      <td>married</td>\n",
       "      <td>unknown</td>\n",
       "      <td>0</td>\n",
       "      <td>1506</td>\n",
       "      <td>1</td>\n",
       "      <td>0</td>\n",
       "      <td>unknown</td>\n",
       "      <td>5</td>\n",
       "      <td>5</td>\n",
       "      <td>92</td>\n",
       "      <td>1</td>\n",
       "      <td>-1</td>\n",
       "      <td>0</td>\n",
       "      <td>unknown</td>\n",
       "      <td>0</td>\n",
       "    </tr>\n",
       "    <tr>\n",
       "      <th>4</th>\n",
       "      <td>33</td>\n",
       "      <td>unknown</td>\n",
       "      <td>single</td>\n",
       "      <td>unknown</td>\n",
       "      <td>0</td>\n",
       "      <td>1</td>\n",
       "      <td>0</td>\n",
       "      <td>0</td>\n",
       "      <td>unknown</td>\n",
       "      <td>5</td>\n",
       "      <td>5</td>\n",
       "      <td>198</td>\n",
       "      <td>1</td>\n",
       "      <td>-1</td>\n",
       "      <td>0</td>\n",
       "      <td>unknown</td>\n",
       "      <td>0</td>\n",
       "    </tr>\n",
       "    <tr>\n",
       "      <th>...</th>\n",
       "      <td>...</td>\n",
       "      <td>...</td>\n",
       "      <td>...</td>\n",
       "      <td>...</td>\n",
       "      <td>...</td>\n",
       "      <td>...</td>\n",
       "      <td>...</td>\n",
       "      <td>...</td>\n",
       "      <td>...</td>\n",
       "      <td>...</td>\n",
       "      <td>...</td>\n",
       "      <td>...</td>\n",
       "      <td>...</td>\n",
       "      <td>...</td>\n",
       "      <td>...</td>\n",
       "      <td>...</td>\n",
       "      <td>...</td>\n",
       "    </tr>\n",
       "    <tr>\n",
       "      <th>45202</th>\n",
       "      <td>34</td>\n",
       "      <td>admin.</td>\n",
       "      <td>single</td>\n",
       "      <td>secondary</td>\n",
       "      <td>0</td>\n",
       "      <td>557</td>\n",
       "      <td>0</td>\n",
       "      <td>0</td>\n",
       "      <td>cellular</td>\n",
       "      <td>17</td>\n",
       "      <td>11</td>\n",
       "      <td>224</td>\n",
       "      <td>1</td>\n",
       "      <td>-1</td>\n",
       "      <td>0</td>\n",
       "      <td>unknown</td>\n",
       "      <td>1</td>\n",
       "    </tr>\n",
       "    <tr>\n",
       "      <th>45203</th>\n",
       "      <td>23</td>\n",
       "      <td>student</td>\n",
       "      <td>single</td>\n",
       "      <td>tertiary</td>\n",
       "      <td>0</td>\n",
       "      <td>113</td>\n",
       "      <td>0</td>\n",
       "      <td>0</td>\n",
       "      <td>cellular</td>\n",
       "      <td>17</td>\n",
       "      <td>11</td>\n",
       "      <td>266</td>\n",
       "      <td>1</td>\n",
       "      <td>-1</td>\n",
       "      <td>0</td>\n",
       "      <td>unknown</td>\n",
       "      <td>1</td>\n",
       "    </tr>\n",
       "    <tr>\n",
       "      <th>45205</th>\n",
       "      <td>25</td>\n",
       "      <td>technician</td>\n",
       "      <td>single</td>\n",
       "      <td>secondary</td>\n",
       "      <td>0</td>\n",
       "      <td>505</td>\n",
       "      <td>0</td>\n",
       "      <td>1</td>\n",
       "      <td>cellular</td>\n",
       "      <td>17</td>\n",
       "      <td>11</td>\n",
       "      <td>386</td>\n",
       "      <td>2</td>\n",
       "      <td>-1</td>\n",
       "      <td>0</td>\n",
       "      <td>unknown</td>\n",
       "      <td>1</td>\n",
       "    </tr>\n",
       "    <tr>\n",
       "      <th>45209</th>\n",
       "      <td>57</td>\n",
       "      <td>blue-collar</td>\n",
       "      <td>married</td>\n",
       "      <td>secondary</td>\n",
       "      <td>0</td>\n",
       "      <td>668</td>\n",
       "      <td>0</td>\n",
       "      <td>0</td>\n",
       "      <td>telephone</td>\n",
       "      <td>17</td>\n",
       "      <td>11</td>\n",
       "      <td>508</td>\n",
       "      <td>4</td>\n",
       "      <td>-1</td>\n",
       "      <td>0</td>\n",
       "      <td>unknown</td>\n",
       "      <td>0</td>\n",
       "    </tr>\n",
       "    <tr>\n",
       "      <th>45210</th>\n",
       "      <td>37</td>\n",
       "      <td>entrepreneur</td>\n",
       "      <td>married</td>\n",
       "      <td>secondary</td>\n",
       "      <td>0</td>\n",
       "      <td>2971</td>\n",
       "      <td>0</td>\n",
       "      <td>0</td>\n",
       "      <td>cellular</td>\n",
       "      <td>17</td>\n",
       "      <td>11</td>\n",
       "      <td>361</td>\n",
       "      <td>2</td>\n",
       "      <td>188</td>\n",
       "      <td>11</td>\n",
       "      <td>other</td>\n",
       "      <td>0</td>\n",
       "    </tr>\n",
       "  </tbody>\n",
       "</table>\n",
       "<p>34564 rows × 17 columns</p>\n",
       "</div>"
      ],
      "text/plain": [
       "       age           job  marital  education  default  balance  housing  loan  \\\n",
       "0       58    management  married   tertiary        0     2143        1     0   \n",
       "1       44    technician   single  secondary        0       29        1     0   \n",
       "2       33  entrepreneur  married  secondary        0        2        1     1   \n",
       "3       47   blue-collar  married    unknown        0     1506        1     0   \n",
       "4       33       unknown   single    unknown        0        1        0     0   \n",
       "...    ...           ...      ...        ...      ...      ...      ...   ...   \n",
       "45202   34        admin.   single  secondary        0      557        0     0   \n",
       "45203   23       student   single   tertiary        0      113        0     0   \n",
       "45205   25    technician   single  secondary        0      505        0     1   \n",
       "45209   57   blue-collar  married  secondary        0      668        0     0   \n",
       "45210   37  entrepreneur  married  secondary        0     2971        0     0   \n",
       "\n",
       "         contact  day  month  duration  campaign  pdays  previous poutcome  y  \n",
       "0        unknown    5      5       261         1     -1         0  unknown  0  \n",
       "1        unknown    5      5       151         1     -1         0  unknown  0  \n",
       "2        unknown    5      5        76         1     -1         0  unknown  0  \n",
       "3        unknown    5      5        92         1     -1         0  unknown  0  \n",
       "4        unknown    5      5       198         1     -1         0  unknown  0  \n",
       "...          ...  ...    ...       ...       ...    ...       ...      ... ..  \n",
       "45202   cellular   17     11       224         1     -1         0  unknown  1  \n",
       "45203   cellular   17     11       266         1     -1         0  unknown  1  \n",
       "45205   cellular   17     11       386         2     -1         0  unknown  1  \n",
       "45209  telephone   17     11       508         4     -1         0  unknown  0  \n",
       "45210   cellular   17     11       361         2    188        11    other  0  \n",
       "\n",
       "[34564 rows x 17 columns]"
      ]
     },
     "execution_count": 2323,
     "metadata": {},
     "output_type": "execute_result"
    }
   ],
   "source": [
    "df"
   ]
  },
  {
   "cell_type": "markdown",
   "id": "7cc6caae",
   "metadata": {},
   "source": [
    "# Ordinal Encoding"
   ]
  },
  {
   "cell_type": "markdown",
   "id": "173d0cdc",
   "metadata": {},
   "source": [
    "Let's change contact and poutcome to dummy columns and drop them."
   ]
  },
  {
   "cell_type": "code",
   "execution_count": 2324,
   "id": "dca7c9f7",
   "metadata": {},
   "outputs": [],
   "source": [
    "df = pd.concat([df, pd.get_dummies(df['contact'])], axis=1)\n",
    "df = pd.concat([df, pd.get_dummies(df['poutcome'])], axis=1)\n",
    "del df['contact']\n",
    "del df['poutcome']"
   ]
  },
  {
   "cell_type": "markdown",
   "id": "37b29f1f",
   "metadata": {},
   "source": [
    "# Frequency encoding"
   ]
  },
  {
   "cell_type": "markdown",
   "id": "29d58766",
   "metadata": {},
   "source": [
    "Let's sum all job and education feature."
   ]
  },
  {
   "cell_type": "code",
   "execution_count": 2325,
   "id": "8e2cf8a1",
   "metadata": {},
   "outputs": [],
   "source": [
    "d_job=df['job'].value_counts().to_dict()\n",
    "d_ed=df['education'].value_counts().to_dict()"
   ]
  },
  {
   "cell_type": "code",
   "execution_count": 2326,
   "id": "37e759f4",
   "metadata": {},
   "outputs": [],
   "source": [
    "df['job']=df['job'].map(d_job)\n",
    "df['education']=df['education'].map(d_ed)"
   ]
  },
  {
   "cell_type": "code",
   "execution_count": 2327,
   "id": "2eb399ed",
   "metadata": {},
   "outputs": [
    {
     "data": {
      "text/html": [
       "<div>\n",
       "<style scoped>\n",
       "    .dataframe tbody tr th:only-of-type {\n",
       "        vertical-align: middle;\n",
       "    }\n",
       "\n",
       "    .dataframe tbody tr th {\n",
       "        vertical-align: top;\n",
       "    }\n",
       "\n",
       "    .dataframe thead th {\n",
       "        text-align: right;\n",
       "    }\n",
       "</style>\n",
       "<table border=\"1\" class=\"dataframe\">\n",
       "  <thead>\n",
       "    <tr style=\"text-align: right;\">\n",
       "      <th></th>\n",
       "      <th>job</th>\n",
       "      <th>education</th>\n",
       "    </tr>\n",
       "  </thead>\n",
       "  <tbody>\n",
       "    <tr>\n",
       "      <th>0</th>\n",
       "      <td>6969</td>\n",
       "      <td>9777</td>\n",
       "    </tr>\n",
       "    <tr>\n",
       "      <th>1</th>\n",
       "      <td>5862</td>\n",
       "      <td>18303</td>\n",
       "    </tr>\n",
       "    <tr>\n",
       "      <th>2</th>\n",
       "      <td>1144</td>\n",
       "      <td>18303</td>\n",
       "    </tr>\n",
       "    <tr>\n",
       "      <th>3</th>\n",
       "      <td>7674</td>\n",
       "      <td>1353</td>\n",
       "    </tr>\n",
       "    <tr>\n",
       "      <th>4</th>\n",
       "      <td>198</td>\n",
       "      <td>1353</td>\n",
       "    </tr>\n",
       "  </tbody>\n",
       "</table>\n",
       "</div>"
      ],
      "text/plain": [
       "    job  education\n",
       "0  6969       9777\n",
       "1  5862      18303\n",
       "2  1144      18303\n",
       "3  7674       1353\n",
       "4   198       1353"
      ]
     },
     "execution_count": 2327,
     "metadata": {},
     "output_type": "execute_result"
    }
   ],
   "source": [
    "df.loc[:,['job','education']].head()"
   ]
  },
  {
   "cell_type": "markdown",
   "id": "0705c65d",
   "metadata": {},
   "source": [
    "# Target Guided Ordinal Encoding"
   ]
  },
  {
   "cell_type": "code",
   "execution_count": 2328,
   "id": "30d8f1d0",
   "metadata": {},
   "outputs": [
    {
     "data": {
      "text/plain": [
       "marital\n",
       "divorced    0.073504\n",
       "married     0.069326\n",
       "single      0.114840\n",
       "Name: y, dtype: float64"
      ]
     },
     "execution_count": 2328,
     "metadata": {},
     "output_type": "execute_result"
    }
   ],
   "source": [
    "df.groupby(['marital'])['y'].mean()"
   ]
  },
  {
   "cell_type": "code",
   "execution_count": 2329,
   "id": "8efb9979",
   "metadata": {},
   "outputs": [
    {
     "data": {
      "text/plain": [
       "Index(['married', 'divorced', 'single'], dtype='object', name='marital')"
      ]
     },
     "execution_count": 2329,
     "metadata": {},
     "output_type": "execute_result"
    }
   ],
   "source": [
    "martial_sort=df.groupby(['marital'])['y'].mean().sort_values().index\n",
    "martial_sort"
   ]
  },
  {
   "cell_type": "code",
   "execution_count": 2330,
   "id": "785d5b77",
   "metadata": {},
   "outputs": [
    {
     "data": {
      "text/plain": [
       "1    20584\n",
       "2     9953\n",
       "0     4027\n",
       "Name: marital_ordinal, dtype: int64"
      ]
     },
     "execution_count": 2330,
     "metadata": {},
     "output_type": "execute_result"
    }
   ],
   "source": [
    "dict_marital = {'divorced': 0, 'married': 1, 'single': 2}\n",
    "df['marital_ordinal']=df['marital'].map(dict_marital)\n",
    "df.drop(['marital'], axis=1, inplace=True)\n",
    "df.marital_ordinal.value_counts()"
   ]
  },
  {
   "cell_type": "code",
   "execution_count": 2331,
   "id": "f6420a46",
   "metadata": {},
   "outputs": [
    {
     "data": {
      "text/html": [
       "<div>\n",
       "<style scoped>\n",
       "    .dataframe tbody tr th:only-of-type {\n",
       "        vertical-align: middle;\n",
       "    }\n",
       "\n",
       "    .dataframe tbody tr th {\n",
       "        vertical-align: top;\n",
       "    }\n",
       "\n",
       "    .dataframe thead th {\n",
       "        text-align: right;\n",
       "    }\n",
       "</style>\n",
       "<table border=\"1\" class=\"dataframe\">\n",
       "  <thead>\n",
       "    <tr style=\"text-align: right;\">\n",
       "      <th></th>\n",
       "      <th>age</th>\n",
       "      <th>job</th>\n",
       "      <th>education</th>\n",
       "      <th>default</th>\n",
       "      <th>balance</th>\n",
       "      <th>housing</th>\n",
       "      <th>loan</th>\n",
       "      <th>day</th>\n",
       "      <th>month</th>\n",
       "      <th>duration</th>\n",
       "      <th>...</th>\n",
       "      <th>previous</th>\n",
       "      <th>y</th>\n",
       "      <th>cellular</th>\n",
       "      <th>telephone</th>\n",
       "      <th>unknown</th>\n",
       "      <th>failure</th>\n",
       "      <th>other</th>\n",
       "      <th>success</th>\n",
       "      <th>unknown</th>\n",
       "      <th>marital_ordinal</th>\n",
       "    </tr>\n",
       "  </thead>\n",
       "  <tbody>\n",
       "    <tr>\n",
       "      <th>0</th>\n",
       "      <td>58</td>\n",
       "      <td>6969</td>\n",
       "      <td>9777</td>\n",
       "      <td>0</td>\n",
       "      <td>2143</td>\n",
       "      <td>1</td>\n",
       "      <td>0</td>\n",
       "      <td>5</td>\n",
       "      <td>5</td>\n",
       "      <td>261</td>\n",
       "      <td>...</td>\n",
       "      <td>0</td>\n",
       "      <td>0</td>\n",
       "      <td>0</td>\n",
       "      <td>0</td>\n",
       "      <td>1</td>\n",
       "      <td>0</td>\n",
       "      <td>0</td>\n",
       "      <td>0</td>\n",
       "      <td>1</td>\n",
       "      <td>1</td>\n",
       "    </tr>\n",
       "    <tr>\n",
       "      <th>1</th>\n",
       "      <td>44</td>\n",
       "      <td>5862</td>\n",
       "      <td>18303</td>\n",
       "      <td>0</td>\n",
       "      <td>29</td>\n",
       "      <td>1</td>\n",
       "      <td>0</td>\n",
       "      <td>5</td>\n",
       "      <td>5</td>\n",
       "      <td>151</td>\n",
       "      <td>...</td>\n",
       "      <td>0</td>\n",
       "      <td>0</td>\n",
       "      <td>0</td>\n",
       "      <td>0</td>\n",
       "      <td>1</td>\n",
       "      <td>0</td>\n",
       "      <td>0</td>\n",
       "      <td>0</td>\n",
       "      <td>1</td>\n",
       "      <td>2</td>\n",
       "    </tr>\n",
       "    <tr>\n",
       "      <th>2</th>\n",
       "      <td>33</td>\n",
       "      <td>1144</td>\n",
       "      <td>18303</td>\n",
       "      <td>0</td>\n",
       "      <td>2</td>\n",
       "      <td>1</td>\n",
       "      <td>1</td>\n",
       "      <td>5</td>\n",
       "      <td>5</td>\n",
       "      <td>76</td>\n",
       "      <td>...</td>\n",
       "      <td>0</td>\n",
       "      <td>0</td>\n",
       "      <td>0</td>\n",
       "      <td>0</td>\n",
       "      <td>1</td>\n",
       "      <td>0</td>\n",
       "      <td>0</td>\n",
       "      <td>0</td>\n",
       "      <td>1</td>\n",
       "      <td>1</td>\n",
       "    </tr>\n",
       "    <tr>\n",
       "      <th>3</th>\n",
       "      <td>47</td>\n",
       "      <td>7674</td>\n",
       "      <td>1353</td>\n",
       "      <td>0</td>\n",
       "      <td>1506</td>\n",
       "      <td>1</td>\n",
       "      <td>0</td>\n",
       "      <td>5</td>\n",
       "      <td>5</td>\n",
       "      <td>92</td>\n",
       "      <td>...</td>\n",
       "      <td>0</td>\n",
       "      <td>0</td>\n",
       "      <td>0</td>\n",
       "      <td>0</td>\n",
       "      <td>1</td>\n",
       "      <td>0</td>\n",
       "      <td>0</td>\n",
       "      <td>0</td>\n",
       "      <td>1</td>\n",
       "      <td>1</td>\n",
       "    </tr>\n",
       "    <tr>\n",
       "      <th>4</th>\n",
       "      <td>33</td>\n",
       "      <td>198</td>\n",
       "      <td>1353</td>\n",
       "      <td>0</td>\n",
       "      <td>1</td>\n",
       "      <td>0</td>\n",
       "      <td>0</td>\n",
       "      <td>5</td>\n",
       "      <td>5</td>\n",
       "      <td>198</td>\n",
       "      <td>...</td>\n",
       "      <td>0</td>\n",
       "      <td>0</td>\n",
       "      <td>0</td>\n",
       "      <td>0</td>\n",
       "      <td>1</td>\n",
       "      <td>0</td>\n",
       "      <td>0</td>\n",
       "      <td>0</td>\n",
       "      <td>1</td>\n",
       "      <td>2</td>\n",
       "    </tr>\n",
       "    <tr>\n",
       "      <th>...</th>\n",
       "      <td>...</td>\n",
       "      <td>...</td>\n",
       "      <td>...</td>\n",
       "      <td>...</td>\n",
       "      <td>...</td>\n",
       "      <td>...</td>\n",
       "      <td>...</td>\n",
       "      <td>...</td>\n",
       "      <td>...</td>\n",
       "      <td>...</td>\n",
       "      <td>...</td>\n",
       "      <td>...</td>\n",
       "      <td>...</td>\n",
       "      <td>...</td>\n",
       "      <td>...</td>\n",
       "      <td>...</td>\n",
       "      <td>...</td>\n",
       "      <td>...</td>\n",
       "      <td>...</td>\n",
       "      <td>...</td>\n",
       "      <td>...</td>\n",
       "    </tr>\n",
       "    <tr>\n",
       "      <th>45202</th>\n",
       "      <td>34</td>\n",
       "      <td>4172</td>\n",
       "      <td>18303</td>\n",
       "      <td>0</td>\n",
       "      <td>557</td>\n",
       "      <td>0</td>\n",
       "      <td>0</td>\n",
       "      <td>17</td>\n",
       "      <td>11</td>\n",
       "      <td>224</td>\n",
       "      <td>...</td>\n",
       "      <td>0</td>\n",
       "      <td>1</td>\n",
       "      <td>1</td>\n",
       "      <td>0</td>\n",
       "      <td>0</td>\n",
       "      <td>0</td>\n",
       "      <td>0</td>\n",
       "      <td>0</td>\n",
       "      <td>1</td>\n",
       "      <td>2</td>\n",
       "    </tr>\n",
       "    <tr>\n",
       "      <th>45203</th>\n",
       "      <td>23</td>\n",
       "      <td>758</td>\n",
       "      <td>9777</td>\n",
       "      <td>0</td>\n",
       "      <td>113</td>\n",
       "      <td>0</td>\n",
       "      <td>0</td>\n",
       "      <td>17</td>\n",
       "      <td>11</td>\n",
       "      <td>266</td>\n",
       "      <td>...</td>\n",
       "      <td>0</td>\n",
       "      <td>1</td>\n",
       "      <td>1</td>\n",
       "      <td>0</td>\n",
       "      <td>0</td>\n",
       "      <td>0</td>\n",
       "      <td>0</td>\n",
       "      <td>0</td>\n",
       "      <td>1</td>\n",
       "      <td>2</td>\n",
       "    </tr>\n",
       "    <tr>\n",
       "      <th>45205</th>\n",
       "      <td>25</td>\n",
       "      <td>5862</td>\n",
       "      <td>18303</td>\n",
       "      <td>0</td>\n",
       "      <td>505</td>\n",
       "      <td>0</td>\n",
       "      <td>1</td>\n",
       "      <td>17</td>\n",
       "      <td>11</td>\n",
       "      <td>386</td>\n",
       "      <td>...</td>\n",
       "      <td>0</td>\n",
       "      <td>1</td>\n",
       "      <td>1</td>\n",
       "      <td>0</td>\n",
       "      <td>0</td>\n",
       "      <td>0</td>\n",
       "      <td>0</td>\n",
       "      <td>0</td>\n",
       "      <td>1</td>\n",
       "      <td>2</td>\n",
       "    </tr>\n",
       "    <tr>\n",
       "      <th>45209</th>\n",
       "      <td>57</td>\n",
       "      <td>7674</td>\n",
       "      <td>18303</td>\n",
       "      <td>0</td>\n",
       "      <td>668</td>\n",
       "      <td>0</td>\n",
       "      <td>0</td>\n",
       "      <td>17</td>\n",
       "      <td>11</td>\n",
       "      <td>508</td>\n",
       "      <td>...</td>\n",
       "      <td>0</td>\n",
       "      <td>0</td>\n",
       "      <td>0</td>\n",
       "      <td>1</td>\n",
       "      <td>0</td>\n",
       "      <td>0</td>\n",
       "      <td>0</td>\n",
       "      <td>0</td>\n",
       "      <td>1</td>\n",
       "      <td>1</td>\n",
       "    </tr>\n",
       "    <tr>\n",
       "      <th>45210</th>\n",
       "      <td>37</td>\n",
       "      <td>1144</td>\n",
       "      <td>18303</td>\n",
       "      <td>0</td>\n",
       "      <td>2971</td>\n",
       "      <td>0</td>\n",
       "      <td>0</td>\n",
       "      <td>17</td>\n",
       "      <td>11</td>\n",
       "      <td>361</td>\n",
       "      <td>...</td>\n",
       "      <td>11</td>\n",
       "      <td>0</td>\n",
       "      <td>1</td>\n",
       "      <td>0</td>\n",
       "      <td>0</td>\n",
       "      <td>0</td>\n",
       "      <td>1</td>\n",
       "      <td>0</td>\n",
       "      <td>0</td>\n",
       "      <td>1</td>\n",
       "    </tr>\n",
       "  </tbody>\n",
       "</table>\n",
       "<p>34564 rows × 22 columns</p>\n",
       "</div>"
      ],
      "text/plain": [
       "       age   job  education  default  balance  housing  loan  day  month  \\\n",
       "0       58  6969       9777        0     2143        1     0    5      5   \n",
       "1       44  5862      18303        0       29        1     0    5      5   \n",
       "2       33  1144      18303        0        2        1     1    5      5   \n",
       "3       47  7674       1353        0     1506        1     0    5      5   \n",
       "4       33   198       1353        0        1        0     0    5      5   \n",
       "...    ...   ...        ...      ...      ...      ...   ...  ...    ...   \n",
       "45202   34  4172      18303        0      557        0     0   17     11   \n",
       "45203   23   758       9777        0      113        0     0   17     11   \n",
       "45205   25  5862      18303        0      505        0     1   17     11   \n",
       "45209   57  7674      18303        0      668        0     0   17     11   \n",
       "45210   37  1144      18303        0     2971        0     0   17     11   \n",
       "\n",
       "       duration  ...  previous  y  cellular  telephone  unknown  failure  \\\n",
       "0           261  ...         0  0         0          0        1        0   \n",
       "1           151  ...         0  0         0          0        1        0   \n",
       "2            76  ...         0  0         0          0        1        0   \n",
       "3            92  ...         0  0         0          0        1        0   \n",
       "4           198  ...         0  0         0          0        1        0   \n",
       "...         ...  ...       ... ..       ...        ...      ...      ...   \n",
       "45202       224  ...         0  1         1          0        0        0   \n",
       "45203       266  ...         0  1         1          0        0        0   \n",
       "45205       386  ...         0  1         1          0        0        0   \n",
       "45209       508  ...         0  0         0          1        0        0   \n",
       "45210       361  ...        11  0         1          0        0        0   \n",
       "\n",
       "       other  success  unknown  marital_ordinal  \n",
       "0          0        0        1                1  \n",
       "1          0        0        1                2  \n",
       "2          0        0        1                1  \n",
       "3          0        0        1                1  \n",
       "4          0        0        1                2  \n",
       "...      ...      ...      ...              ...  \n",
       "45202      0        0        1                2  \n",
       "45203      0        0        1                2  \n",
       "45205      0        0        1                2  \n",
       "45209      0        0        1                1  \n",
       "45210      1        0        0                1  \n",
       "\n",
       "[34564 rows x 22 columns]"
      ]
     },
     "execution_count": 2331,
     "metadata": {},
     "output_type": "execute_result"
    }
   ],
   "source": [
    "df"
   ]
  },
  {
   "cell_type": "code",
   "execution_count": 2332,
   "id": "d8f9550e",
   "metadata": {},
   "outputs": [
    {
     "data": {
      "text/plain": [
       "age                int64\n",
       "job                int64\n",
       "education          int64\n",
       "default            int64\n",
       "balance            int64\n",
       "housing            int64\n",
       "loan               int64\n",
       "day                int64\n",
       "month              int64\n",
       "duration           int64\n",
       "campaign           int64\n",
       "pdays              int64\n",
       "previous           int64\n",
       "y                  int64\n",
       "cellular           uint8\n",
       "telephone          uint8\n",
       "unknown            uint8\n",
       "failure            uint8\n",
       "other              uint8\n",
       "success            uint8\n",
       "unknown            uint8\n",
       "marital_ordinal    int64\n",
       "dtype: object"
      ]
     },
     "execution_count": 2332,
     "metadata": {},
     "output_type": "execute_result"
    }
   ],
   "source": [
    "df.dtypes"
   ]
  },
  {
   "cell_type": "markdown",
   "id": "7b1af986",
   "metadata": {},
   "source": [
    "Change type to int."
   ]
  },
  {
   "cell_type": "code",
   "execution_count": 2333,
   "id": "2cc06d27",
   "metadata": {},
   "outputs": [
    {
     "data": {
      "text/plain": [
       "age                int64\n",
       "job                int64\n",
       "education          int64\n",
       "default            int64\n",
       "balance            int64\n",
       "housing            int64\n",
       "loan               int64\n",
       "day                int64\n",
       "month              int64\n",
       "duration           int64\n",
       "campaign           int64\n",
       "pdays              int64\n",
       "previous           int64\n",
       "y                  int64\n",
       "cellular           int32\n",
       "telephone          int32\n",
       "unknown            int32\n",
       "failure            int32\n",
       "other              int32\n",
       "success            int32\n",
       "unknown            int32\n",
       "marital_ordinal    int64\n",
       "dtype: object"
      ]
     },
     "execution_count": 2333,
     "metadata": {},
     "output_type": "execute_result"
    }
   ],
   "source": [
    "data_types_dict = {'cellular': int,'telephone': int,'unknown': int,'failure': int,'other': int,'success': int,'unknown':int}\n",
    "df = df.astype(data_types_dict)\n",
    "df.dtypes"
   ]
  },
  {
   "cell_type": "markdown",
   "id": "1337b85e",
   "metadata": {},
   "source": [
    "# Standardization of numerical variables"
   ]
  },
  {
   "cell_type": "code",
   "execution_count": 2334,
   "id": "c3c6952d",
   "metadata": {},
   "outputs": [
    {
     "data": {
      "text/plain": [
       "StandardScaler()"
      ]
     },
     "execution_count": 2334,
     "metadata": {},
     "output_type": "execute_result"
    }
   ],
   "source": [
    "df_scale = df.copy()\n",
    "Cate_varia = ['job','education','default','balance','housing','loan','day','month','y','cellular','telephone','unknown','failure','other','success','unknown','marital_ordinal']\n",
    "feature_scale=[feature for feature in df.columns if feature not in Cate_varia]\n",
    "scaler=StandardScaler()\n",
    "scaler.fit(df[feature_scale])"
   ]
  },
  {
   "cell_type": "code",
   "execution_count": 2335,
   "id": "f204eebb",
   "metadata": {},
   "outputs": [
    {
     "data": {
      "text/html": [
       "<div>\n",
       "<style scoped>\n",
       "    .dataframe tbody tr th:only-of-type {\n",
       "        vertical-align: middle;\n",
       "    }\n",
       "\n",
       "    .dataframe tbody tr th {\n",
       "        vertical-align: top;\n",
       "    }\n",
       "\n",
       "    .dataframe thead th {\n",
       "        text-align: right;\n",
       "    }\n",
       "</style>\n",
       "<table border=\"1\" class=\"dataframe\">\n",
       "  <thead>\n",
       "    <tr style=\"text-align: right;\">\n",
       "      <th></th>\n",
       "      <th>job</th>\n",
       "      <th>education</th>\n",
       "      <th>default</th>\n",
       "      <th>balance</th>\n",
       "      <th>housing</th>\n",
       "      <th>loan</th>\n",
       "      <th>day</th>\n",
       "      <th>month</th>\n",
       "      <th>y</th>\n",
       "      <th>cellular</th>\n",
       "      <th>...</th>\n",
       "      <th>other</th>\n",
       "      <th>success</th>\n",
       "      <th>unknown</th>\n",
       "      <th>unknown</th>\n",
       "      <th>marital_ordinal</th>\n",
       "      <th>age</th>\n",
       "      <th>duration</th>\n",
       "      <th>campaign</th>\n",
       "      <th>pdays</th>\n",
       "      <th>previous</th>\n",
       "    </tr>\n",
       "  </thead>\n",
       "  <tbody>\n",
       "    <tr>\n",
       "      <th>0</th>\n",
       "      <td>6969</td>\n",
       "      <td>9777</td>\n",
       "      <td>0</td>\n",
       "      <td>2143</td>\n",
       "      <td>1</td>\n",
       "      <td>0</td>\n",
       "      <td>5</td>\n",
       "      <td>5</td>\n",
       "      <td>0</td>\n",
       "      <td>0</td>\n",
       "      <td>...</td>\n",
       "      <td>0</td>\n",
       "      <td>0</td>\n",
       "      <td>1</td>\n",
       "      <td>1</td>\n",
       "      <td>1</td>\n",
       "      <td>1.789385</td>\n",
       "      <td>0.391568</td>\n",
       "      <td>-0.857819</td>\n",
       "      <td>-0.419151</td>\n",
       "      <td>-0.307719</td>\n",
       "    </tr>\n",
       "    <tr>\n",
       "      <th>1</th>\n",
       "      <td>5862</td>\n",
       "      <td>18303</td>\n",
       "      <td>0</td>\n",
       "      <td>29</td>\n",
       "      <td>1</td>\n",
       "      <td>0</td>\n",
       "      <td>5</td>\n",
       "      <td>5</td>\n",
       "      <td>0</td>\n",
       "      <td>0</td>\n",
       "      <td>...</td>\n",
       "      <td>0</td>\n",
       "      <td>0</td>\n",
       "      <td>1</td>\n",
       "      <td>1</td>\n",
       "      <td>2</td>\n",
       "      <td>0.377521</td>\n",
       "      <td>-0.400409</td>\n",
       "      <td>-0.857819</td>\n",
       "      <td>-0.419151</td>\n",
       "      <td>-0.307719</td>\n",
       "    </tr>\n",
       "    <tr>\n",
       "      <th>2</th>\n",
       "      <td>1144</td>\n",
       "      <td>18303</td>\n",
       "      <td>0</td>\n",
       "      <td>2</td>\n",
       "      <td>1</td>\n",
       "      <td>1</td>\n",
       "      <td>5</td>\n",
       "      <td>5</td>\n",
       "      <td>0</td>\n",
       "      <td>0</td>\n",
       "      <td>...</td>\n",
       "      <td>0</td>\n",
       "      <td>0</td>\n",
       "      <td>1</td>\n",
       "      <td>1</td>\n",
       "      <td>1</td>\n",
       "      <td>-0.731800</td>\n",
       "      <td>-0.940393</td>\n",
       "      <td>-0.857819</td>\n",
       "      <td>-0.419151</td>\n",
       "      <td>-0.307719</td>\n",
       "    </tr>\n",
       "    <tr>\n",
       "      <th>3</th>\n",
       "      <td>7674</td>\n",
       "      <td>1353</td>\n",
       "      <td>0</td>\n",
       "      <td>1506</td>\n",
       "      <td>1</td>\n",
       "      <td>0</td>\n",
       "      <td>5</td>\n",
       "      <td>5</td>\n",
       "      <td>0</td>\n",
       "      <td>0</td>\n",
       "      <td>...</td>\n",
       "      <td>0</td>\n",
       "      <td>0</td>\n",
       "      <td>1</td>\n",
       "      <td>1</td>\n",
       "      <td>1</td>\n",
       "      <td>0.680064</td>\n",
       "      <td>-0.825196</td>\n",
       "      <td>-0.857819</td>\n",
       "      <td>-0.419151</td>\n",
       "      <td>-0.307719</td>\n",
       "    </tr>\n",
       "    <tr>\n",
       "      <th>4</th>\n",
       "      <td>198</td>\n",
       "      <td>1353</td>\n",
       "      <td>0</td>\n",
       "      <td>1</td>\n",
       "      <td>0</td>\n",
       "      <td>0</td>\n",
       "      <td>5</td>\n",
       "      <td>5</td>\n",
       "      <td>0</td>\n",
       "      <td>0</td>\n",
       "      <td>...</td>\n",
       "      <td>0</td>\n",
       "      <td>0</td>\n",
       "      <td>1</td>\n",
       "      <td>1</td>\n",
       "      <td>2</td>\n",
       "      <td>-0.731800</td>\n",
       "      <td>-0.062019</td>\n",
       "      <td>-0.857819</td>\n",
       "      <td>-0.419151</td>\n",
       "      <td>-0.307719</td>\n",
       "    </tr>\n",
       "  </tbody>\n",
       "</table>\n",
       "<p>5 rows × 24 columns</p>\n",
       "</div>"
      ],
      "text/plain": [
       "    job  education  default  balance  housing  loan  day  month  y  cellular  \\\n",
       "0  6969       9777        0     2143        1     0    5      5  0         0   \n",
       "1  5862      18303        0       29        1     0    5      5  0         0   \n",
       "2  1144      18303        0        2        1     1    5      5  0         0   \n",
       "3  7674       1353        0     1506        1     0    5      5  0         0   \n",
       "4   198       1353        0        1        0     0    5      5  0         0   \n",
       "\n",
       "   ...  other  success  unknown  unknown  marital_ordinal       age  duration  \\\n",
       "0  ...      0        0        1        1                1  1.789385  0.391568   \n",
       "1  ...      0        0        1        1                2  0.377521 -0.400409   \n",
       "2  ...      0        0        1        1                1 -0.731800 -0.940393   \n",
       "3  ...      0        0        1        1                1  0.680064 -0.825196   \n",
       "4  ...      0        0        1        1                2 -0.731800 -0.062019   \n",
       "\n",
       "   campaign     pdays  previous  \n",
       "0 -0.857819 -0.419151 -0.307719  \n",
       "1 -0.857819 -0.419151 -0.307719  \n",
       "2 -0.857819 -0.419151 -0.307719  \n",
       "3 -0.857819 -0.419151 -0.307719  \n",
       "4 -0.857819 -0.419151 -0.307719  \n",
       "\n",
       "[5 rows x 24 columns]"
      ]
     },
     "execution_count": 2335,
     "metadata": {},
     "output_type": "execute_result"
    }
   ],
   "source": [
    "scaled_data = pd.concat([df[['job','education','default','balance','housing','loan','day','month','y','cellular','telephone','unknown','failure','other','success','unknown','marital_ordinal']].reset_index(drop=True),pd.DataFrame(scaler.transform(df[feature_scale]), columns=feature_scale)],\n",
    "axis=1)\n",
    "scaled_data.head()"
   ]
  },
  {
   "cell_type": "markdown",
   "id": "a06e940f",
   "metadata": {},
   "source": [
    "# Feature Selection "
   ]
  },
  {
   "cell_type": "code",
   "execution_count": 2336,
   "id": "d7564901",
   "metadata": {},
   "outputs": [
    {
     "data": {
      "text/plain": [
       "ExtraTreesClassifier()"
      ]
     },
     "execution_count": 2336,
     "metadata": {},
     "output_type": "execute_result"
    }
   ],
   "source": [
    "X=scaled_data.drop(['y'],axis=1)\n",
    "y=scaled_data.y\n",
    "\n",
    "model = ExtraTreesClassifier()\n",
    "model.fit(X,y)"
   ]
  },
  {
   "cell_type": "code",
   "execution_count": 2337,
   "id": "d1628d7e",
   "metadata": {},
   "outputs": [
    {
     "data": {
      "image/png": "[encoded data removed]",
      "text/plain": [
       "<Figure size 640x480 with 1 Axes>"
      ]
     },
     "metadata": {},
     "output_type": "display_data"
    }
   ],
   "source": [
    "feat_importances = pd.Series(model.feature_importances_, index=X.columns)\n",
    "feat_importances.nlargest(17).plot(kind='barh')\n",
    "plt.show()"
   ]
  },
  {
   "cell_type": "markdown",
   "id": "f68ac599",
   "metadata": {},
   "source": [
    "# Train and Test Split (80:20)"
   ]
  },
  {
   "cell_type": "code",
   "execution_count": 2338,
   "id": "f7fbc6d1",
   "metadata": {},
   "outputs": [
    {
     "name": "stdout",
     "output_type": "stream",
     "text": [
      "Input Training: (27651, 12)\n",
      "Input Test: (6913, 12)\n",
      "Output Training: (27651,)\n",
      "Output Test: (6913,)\n"
     ]
    }
   ],
   "source": [
    "X=scaled_data.drop(['unknown','unknown','failure','loan','previous','y','marital_ordinal','housing','pdays','education'],axis=1)\n",
    "y=scaled_data.y\n",
    "\n",
    "X_train, X_test, y_train, y_test = train_test_split(X, y,train_size=0.8,random_state=22)\n",
    "print(\"Input Training:\",X_train.shape)\n",
    "print(\"Input Test:\",X_test.shape)\n",
    "print(\"Output Training:\",y_train.shape)\n",
    "print(\"Output Test:\",y_test.shape)"
   ]
  },
  {
   "cell_type": "markdown",
   "id": "01facec0",
   "metadata": {},
   "source": [
    "# Logistic regression "
   ]
  },
  {
   "cell_type": "code",
   "execution_count": 2339,
   "id": "54ac15da",
   "metadata": {
    "scrolled": false
   },
   "outputs": [
    {
     "data": {
      "text/plain": [
       "LogisticRegression()"
      ]
     },
     "execution_count": 2339,
     "metadata": {},
     "output_type": "execute_result"
    }
   ],
   "source": [
    "logreg = LogisticRegression()\n",
    "logreg"
   ]
  },
  {
   "cell_type": "code",
   "execution_count": 2340,
   "id": "9570ed20",
   "metadata": {},
   "outputs": [
    {
     "data": {
      "text/plain": [
       "LogisticRegression()"
      ]
     },
     "execution_count": 2340,
     "metadata": {},
     "output_type": "execute_result"
    }
   ],
   "source": [
    "logreg.fit(X_train,y_train)"
   ]
  },
  {
   "cell_type": "code",
   "execution_count": 2341,
   "id": "929ea79b",
   "metadata": {},
   "outputs": [
    {
     "data": {
      "text/plain": [
       "0.924776680771039"
      ]
     },
     "execution_count": 2341,
     "metadata": {},
     "output_type": "execute_result"
    }
   ],
   "source": [
    "logreg.score(X_train,y_train)"
   ]
  },
  {
   "cell_type": "code",
   "execution_count": 2342,
   "id": "5b51f1c3",
   "metadata": {},
   "outputs": [
    {
     "data": {
      "text/plain": [
       "array([-2.74023738])"
      ]
     },
     "execution_count": 2342,
     "metadata": {},
     "output_type": "execute_result"
    }
   ],
   "source": [
    "logreg.intercept_"
   ]
  },
  {
   "cell_type": "code",
   "execution_count": 2343,
   "id": "bd2cf05a",
   "metadata": {},
   "outputs": [
    {
     "data": {
      "text/plain": [
       "array([[-1.47626584e-04, -1.43428887e-01,  1.96597960e-04,\n",
       "        -2.71811574e-02, -6.50278708e-02,  1.46027369e+00,\n",
       "         6.92261019e-02,  2.25519637e-01,  2.88678743e+00,\n",
       "         7.48931799e-02,  7.71514269e-01, -5.55989789e-01]])"
      ]
     },
     "execution_count": 2343,
     "metadata": {},
     "output_type": "execute_result"
    }
   ],
   "source": [
    "logreg.coef_"
   ]
  },
  {
   "cell_type": "code",
   "execution_count": 2344,
   "id": "3f0e8853",
   "metadata": {},
   "outputs": [
    {
     "data": {
      "text/plain": [
       "array([0, 0, 0, ..., 0, 0, 0], dtype=int64)"
      ]
     },
     "execution_count": 2344,
     "metadata": {},
     "output_type": "execute_result"
    }
   ],
   "source": [
    "Predicted = logreg.predict(X_test)\n",
    "Predicted"
   ]
  },
  {
   "cell_type": "code",
   "execution_count": 2345,
   "id": "ab72aead",
   "metadata": {},
   "outputs": [
    {
     "data": {
      "text/plain": [
       "0.9228988861565167"
      ]
     },
     "execution_count": 2345,
     "metadata": {},
     "output_type": "execute_result"
    }
   ],
   "source": [
    "logreg.score(X_test,y_test)"
   ]
  },
  {
   "cell_type": "code",
   "execution_count": 2346,
   "id": "f1668a0e",
   "metadata": {},
   "outputs": [
    {
     "data": {
      "text/plain": [
       "array([[0.52922584, 0.47077416],\n",
       "       [0.95749622, 0.04250378],\n",
       "       [0.67412082, 0.32587918],\n",
       "       ...,\n",
       "       [0.97295309, 0.02704691],\n",
       "       [0.90385412, 0.09614588],\n",
       "       [0.98195628, 0.01804372]])"
      ]
     },
     "execution_count": 2346,
     "metadata": {},
     "output_type": "execute_result"
    }
   ],
   "source": [
    "logreg.predict_proba(X_test)"
   ]
  },
  {
   "cell_type": "markdown",
   "id": "a546f886",
   "metadata": {},
   "source": [
    "Model accuracy is 0.9228988861565167. Let's use Logistic regression with Hyperparameter tuning for adjust accuracy."
   ]
  },
  {
   "cell_type": "markdown",
   "id": "65493f1f",
   "metadata": {},
   "source": [
    "# Logistic regression with Hyperparameter tuning"
   ]
  },
  {
   "cell_type": "code",
   "execution_count": 2347,
   "id": "158a1e05",
   "metadata": {},
   "outputs": [
    {
     "name": "stdout",
     "output_type": "stream",
     "text": [
      "The accuracy of the model is: 0.9230435411543468\n"
     ]
    }
   ],
   "source": [
    "param_grid = {'C': np.logspace(-4, 4, 50),\n",
    "             'penalty':['l1', 'l2']}\n",
    "clf = GridSearchCV(LogisticRegression(random_state=0), param_grid,cv=5, verbose=0,n_jobs=-1)\n",
    "best_model = clf.fit(X_train,y_train)\n",
    "print(\"The accuracy of the model is:\",best_model.score(X_test,y_test))"
   ]
  },
  {
   "cell_type": "code",
   "execution_count": 2348,
   "id": "29fab9b7",
   "metadata": {},
   "outputs": [
    {
     "name": "stdout",
     "output_type": "stream",
     "text": [
      "Confusion Matrix:\n",
      " [[6234   89]\n",
      " [ 444  146]]\n",
      "Classification Report:\n",
      "               precision    recall  f1-score   support\n",
      "\n",
      "           0       0.93      0.99      0.96      6323\n",
      "           1       0.62      0.25      0.35       590\n",
      "\n",
      "    accuracy                           0.92      6913\n",
      "   macro avg       0.78      0.62      0.66      6913\n",
      "weighted avg       0.91      0.92      0.91      6913\n",
      "\n"
     ]
    }
   ],
   "source": [
    "confusion_matrix = confusion_matrix(y_test, Predicted)\n",
    "print(\"Confusion Matrix:\\n\",confusion_matrix)\n",
    "print(\"Classification Report:\\n\",classification_report(y_test, Predicted))"
   ]
  },
  {
   "cell_type": "markdown",
   "id": "b4b5c2a8",
   "metadata": {},
   "source": [
    "# Insights\n",
    "The Confusion matrix result is telling us that we have 6234+146 correct predictions and 444+146 incorrect predictions.\n",
    "\n",
    "The Classification report reveals that we have 93% precision which means the accuracy that the model classifier not to label an instance positive that is actually negative which is important as we shouldn't label a lead as positive in making a term deposit when he/she isn't interested in making a deposit."
   ]
  },
  {
   "cell_type": "markdown",
   "id": "7bc58f31",
   "metadata": {},
   "source": [
    "# ROC curve"
   ]
  },
  {
   "cell_type": "code",
   "execution_count": 2349,
   "id": "5ee91458",
   "metadata": {},
   "outputs": [
    {
     "data": {
      "image/png": "[encoded data removed]",
      "text/plain": [
       "<Figure size 640x480 with 1 Axes>"
      ]
     },
     "metadata": {},
     "output_type": "display_data"
    }
   ],
   "source": [
    "logit_roc_auc = roc_auc_score(y_test, logreg.predict(X_test))\n",
    "fpr, tpr, thresholds = roc_curve(y_test, logreg.predict_proba(X_test)[:,1])\n",
    "plt.figure()\n",
    "plt.plot(fpr, tpr, label='Logistic Regression (area = %0.2f)' % logit_roc_auc)\n",
    "plt.plot([0, 1], [0, 1],'r--')\n",
    "plt.xlim([-0.01, 1.0])\n",
    "plt.ylim([0.0, 1.05])\n",
    "plt.xlabel('False Positive Rate')\n",
    "plt.ylabel('True Positive Rate')\n",
    "plt.title('Receiver operating characteristic')\n",
    "plt.legend(loc=\"lower right\")\n",
    "plt.show()"
   ]
  }
 ],
 "metadata": {
  "kernelspec": {
   "display_name": "Python 3 (ipykernel)",
   "language": "python",
   "name": "python3"
  },
  "language_info": {
   "codemirror_mode": {
    "name": "ipython",
    "version": 3
   },
   "file_extension": ".py",
   "mimetype": "text/x-python",
   "name": "python",
   "nbconvert_exporter": "python",
   "pygments_lexer": "ipython3",
   "version": "3.9.13"
  }
 },
 "nbformat": 4,
 "nbformat_minor": 5
}
